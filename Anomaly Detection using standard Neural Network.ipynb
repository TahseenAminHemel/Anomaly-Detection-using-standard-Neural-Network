{
  "nbformat": 4,
  "nbformat_minor": 0,
  "metadata": {
    "colab": {
      "name": "Neural Network.ipynb",
      "provenance": [],
      "collapsed_sections": []
    },
    "kernelspec": {
      "name": "python3",
      "display_name": "Python 3"
    },
    "accelerator": "GPU"
  },
  "cells": [
    {
      "cell_type": "code",
      "metadata": {
        "id": "y9f0nj-fUHg3",
        "colab_type": "code",
        "colab": {
          "base_uri": "https://localhost:8080/",
          "height": 51
        },
        "outputId": "580a26ed-56ae-49a0-890c-d30addacaf37"
      },
      "source": [
        "import pandas as pd\n",
        "import numpy as np\n",
        "import matplotlib.pyplot as plt\n",
        "import seaborn as sns\n",
        "import warnings\n",
        "warnings.filterwarnings(\"ignore\")"
      ],
      "execution_count": null,
      "outputs": [
        {
          "output_type": "stream",
          "text": [
            "/usr/local/lib/python3.6/dist-packages/statsmodels/tools/_testing.py:19: FutureWarning: pandas.util.testing is deprecated. Use the functions in the public API at pandas.testing instead.\n",
            "  import pandas.util.testing as tm\n"
          ],
          "name": "stderr"
        }
      ]
    },
    {
      "cell_type": "code",
      "metadata": {
        "id": "GuD-PDAyUehM",
        "colab_type": "code",
        "colab": {
          "base_uri": "https://localhost:8080/",
          "height": 122
        },
        "outputId": "542d91bf-822d-40ef-d183-4aa3c8844809"
      },
      "source": [
        "from google.colab import drive\n",
        "drive.mount('/content/drive/')"
      ],
      "execution_count": null,
      "outputs": [
        {
          "output_type": "stream",
          "text": [
            "Go to this URL in a browser: https://accounts.google.com/o/oauth2/auth?client_id=947318989803-6bn6qk8qdgf4n4g3pfee6491hc0brc4i.apps.googleusercontent.com&redirect_uri=urn%3aietf%3awg%3aoauth%3a2.0%3aoob&response_type=code&scope=email%20https%3a%2f%2fwww.googleapis.com%2fauth%2fdocs.test%20https%3a%2f%2fwww.googleapis.com%2fauth%2fdrive%20https%3a%2f%2fwww.googleapis.com%2fauth%2fdrive.photos.readonly%20https%3a%2f%2fwww.googleapis.com%2fauth%2fpeopleapi.readonly\n",
            "\n",
            "Enter your authorization code:\n",
            "··········\n",
            "Mounted at /content/drive/\n"
          ],
          "name": "stdout"
        }
      ]
    },
    {
      "cell_type": "code",
      "metadata": {
        "id": "LjkSsJ7mUe_s",
        "colab_type": "code",
        "colab": {}
      },
      "source": [
        "data = pd.read_csv('/content/drive/My Drive/Colab Notebooks/MRP/creditcard.csv')"
      ],
      "execution_count": null,
      "outputs": []
    },
    {
      "cell_type": "code",
      "metadata": {
        "id": "lvg2ztVRBrR7",
        "colab_type": "code",
        "colab": {}
      },
      "source": [
        "from sklearn.model_selection import train_test_split\n",
        "X = data.drop('Class',axis=1).values\n",
        "y = data['Class'].values\n",
        "X_train, X_test, y_train, y_test = train_test_split(X, y, test_size=0.20, random_state=101)"
      ],
      "execution_count": null,
      "outputs": []
    },
    {
      "cell_type": "code",
      "metadata": {
        "id": "AYK6IcHRC6HX",
        "colab_type": "code",
        "colab": {}
      },
      "source": [
        "from sklearn.preprocessing import MinMaxScaler\n",
        "scaler = MinMaxScaler()\n",
        "X_train = scaler.fit_transform(X_train)\n",
        "X_test = scaler.transform(X_test)"
      ],
      "execution_count": null,
      "outputs": []
    },
    {
      "cell_type": "code",
      "metadata": {
        "id": "A4Dxumu_qTzV",
        "colab_type": "code",
        "colab": {
          "base_uri": "https://localhost:8080/",
          "height": 34
        },
        "outputId": "5733bae2-84a5-4a63-a3b8-7062ac62ee80"
      },
      "source": [
        "import keras\n",
        "import tensorflow as tf\n",
        "from keras import models, layers\n",
        "from keras.layers import Dense\n",
        "from keras.utils import np_utils\n",
        "from keras.models import Sequential"
      ],
      "execution_count": null,
      "outputs": [
        {
          "output_type": "stream",
          "text": [
            "Using TensorFlow backend.\n"
          ],
          "name": "stderr"
        }
      ]
    },
    {
      "cell_type": "code",
      "metadata": {
        "id": "NgJvF5-StOBO",
        "colab_type": "code",
        "colab": {}
      },
      "source": [
        "def create_model():\n",
        "  return tf.keras.models.Sequential([\n",
        "    tf.keras.layers.Dense(100, activation='relu'),\n",
        "    tf.keras.layers.Dropout(0.2),\n",
        "    tf.keras.layers.Dense(50, activation='relu'),\n",
        "    tf.keras.layers.Dropout(0.2),\n",
        "    tf.keras.layers.Dense(25, activation='relu'),\n",
        "    tf.keras.layers.Dropout(0.2),\n",
        "    tf.keras.layers.Dense(units=1,activation='sigmoid')\n",
        "  ])"
      ],
      "execution_count": null,
      "outputs": []
    },
    {
      "cell_type": "code",
      "metadata": {
        "id": "kWfzz43-_N6d",
        "colab_type": "code",
        "colab": {}
      },
      "source": [
        "mymodel = create_model()\n",
        "mymodel.compile(loss='binary_crossentropy', optimizer='adam', metrics=[\"accuracy\"])"
      ],
      "execution_count": null,
      "outputs": []
    },
    {
      "cell_type": "code",
      "metadata": {
        "id": "nxKtX4Hz0IAJ",
        "colab_type": "code",
        "colab": {
          "base_uri": "https://localhost:8080/",
          "height": 884
        },
        "outputId": "52e1ad91-53a1-4488-cf23-adf13fc6817f"
      },
      "source": [
        "mymodel.fit(x = X_train, \n",
        "          y = y_train, \n",
        "          epochs = 25,\n",
        "          batch_size = 10240, \n",
        "          validation_data = (X_test, y_test), \n",
        "          callbacks = None)"
      ],
      "execution_count": null,
      "outputs": [
        {
          "output_type": "stream",
          "text": [
            "Epoch 1/25\n",
            "23/23 [==============================] - 0s 14ms/step - loss: 0.2022 - accuracy: 0.9760 - val_loss: 0.0183 - val_accuracy: 0.9982\n",
            "Epoch 2/25\n",
            "23/23 [==============================] - 0s 7ms/step - loss: 0.0183 - accuracy: 0.9983 - val_loss: 0.0134 - val_accuracy: 0.9982\n",
            "Epoch 3/25\n",
            "23/23 [==============================] - 0s 7ms/step - loss: 0.0147 - accuracy: 0.9983 - val_loss: 0.0129 - val_accuracy: 0.9982\n",
            "Epoch 4/25\n",
            "23/23 [==============================] - 0s 7ms/step - loss: 0.0140 - accuracy: 0.9983 - val_loss: 0.0120 - val_accuracy: 0.9982\n",
            "Epoch 5/25\n",
            "23/23 [==============================] - 0s 7ms/step - loss: 0.0132 - accuracy: 0.9983 - val_loss: 0.0114 - val_accuracy: 0.9982\n",
            "Epoch 6/25\n",
            "23/23 [==============================] - 0s 7ms/step - loss: 0.0122 - accuracy: 0.9983 - val_loss: 0.0101 - val_accuracy: 0.9982\n",
            "Epoch 7/25\n",
            "23/23 [==============================] - 0s 6ms/step - loss: 0.0111 - accuracy: 0.9983 - val_loss: 0.0087 - val_accuracy: 0.9982\n",
            "Epoch 8/25\n",
            "23/23 [==============================] - 0s 7ms/step - loss: 0.0099 - accuracy: 0.9983 - val_loss: 0.0076 - val_accuracy: 0.9982\n",
            "Epoch 9/25\n",
            "23/23 [==============================] - 0s 7ms/step - loss: 0.0090 - accuracy: 0.9984 - val_loss: 0.0068 - val_accuracy: 0.9983\n",
            "Epoch 10/25\n",
            "23/23 [==============================] - 0s 7ms/step - loss: 0.0081 - accuracy: 0.9985 - val_loss: 0.0059 - val_accuracy: 0.9986\n",
            "Epoch 11/25\n",
            "23/23 [==============================] - 0s 7ms/step - loss: 0.0078 - accuracy: 0.9986 - val_loss: 0.0059 - val_accuracy: 0.9986\n",
            "Epoch 12/25\n",
            "23/23 [==============================] - 0s 7ms/step - loss: 0.0072 - accuracy: 0.9987 - val_loss: 0.0050 - val_accuracy: 0.9987\n",
            "Epoch 13/25\n",
            "23/23 [==============================] - 0s 7ms/step - loss: 0.0066 - accuracy: 0.9988 - val_loss: 0.0047 - val_accuracy: 0.9988\n",
            "Epoch 14/25\n",
            "23/23 [==============================] - 0s 7ms/step - loss: 0.0063 - accuracy: 0.9988 - val_loss: 0.0041 - val_accuracy: 0.9990\n",
            "Epoch 15/25\n",
            "23/23 [==============================] - 0s 7ms/step - loss: 0.0059 - accuracy: 0.9989 - val_loss: 0.0036 - val_accuracy: 0.9992\n",
            "Epoch 16/25\n",
            "23/23 [==============================] - 0s 7ms/step - loss: 0.0054 - accuracy: 0.9990 - val_loss: 0.0036 - val_accuracy: 0.9992\n",
            "Epoch 17/25\n",
            "23/23 [==============================] - 0s 7ms/step - loss: 0.0054 - accuracy: 0.9990 - val_loss: 0.0035 - val_accuracy: 0.9993\n",
            "Epoch 18/25\n",
            "23/23 [==============================] - 0s 7ms/step - loss: 0.0053 - accuracy: 0.9990 - val_loss: 0.0034 - val_accuracy: 0.9993\n",
            "Epoch 19/25\n",
            "23/23 [==============================] - 0s 7ms/step - loss: 0.0051 - accuracy: 0.9991 - val_loss: 0.0033 - val_accuracy: 0.9994\n",
            "Epoch 20/25\n",
            "23/23 [==============================] - 0s 7ms/step - loss: 0.0051 - accuracy: 0.9991 - val_loss: 0.0032 - val_accuracy: 0.9995\n",
            "Epoch 21/25\n",
            "23/23 [==============================] - 0s 6ms/step - loss: 0.0046 - accuracy: 0.9992 - val_loss: 0.0033 - val_accuracy: 0.9995\n",
            "Epoch 22/25\n",
            "23/23 [==============================] - 0s 7ms/step - loss: 0.0046 - accuracy: 0.9992 - val_loss: 0.0032 - val_accuracy: 0.9995\n",
            "Epoch 23/25\n",
            "23/23 [==============================] - 0s 7ms/step - loss: 0.0047 - accuracy: 0.9992 - val_loss: 0.0031 - val_accuracy: 0.9995\n",
            "Epoch 24/25\n",
            "23/23 [==============================] - 0s 7ms/step - loss: 0.0045 - accuracy: 0.9992 - val_loss: 0.0034 - val_accuracy: 0.9995\n",
            "Epoch 25/25\n",
            "23/23 [==============================] - 0s 7ms/step - loss: 0.0046 - accuracy: 0.9992 - val_loss: 0.0033 - val_accuracy: 0.9995\n"
          ],
          "name": "stdout"
        },
        {
          "output_type": "execute_result",
          "data": {
            "text/plain": [
              "<tensorflow.python.keras.callbacks.History at 0x7f2d77f6c8d0>"
            ]
          },
          "metadata": {
            "tags": []
          },
          "execution_count": 15
        }
      ]
    },
    {
      "cell_type": "code",
      "metadata": {
        "id": "Ud6HHKgd_zDH",
        "colab_type": "code",
        "colab": {
          "base_uri": "https://localhost:8080/",
          "height": 391
        },
        "outputId": "bbd2f30c-fadc-468e-ba21-326bf3a30aa7"
      },
      "source": [
        "mymodel.summary()"
      ],
      "execution_count": null,
      "outputs": [
        {
          "output_type": "stream",
          "text": [
            "Model: \"sequential\"\n",
            "_________________________________________________________________\n",
            "Layer (type)                 Output Shape              Param #   \n",
            "=================================================================\n",
            "dense (Dense)                multiple                  3100      \n",
            "_________________________________________________________________\n",
            "dropout (Dropout)            multiple                  0         \n",
            "_________________________________________________________________\n",
            "dense_1 (Dense)              multiple                  5050      \n",
            "_________________________________________________________________\n",
            "dropout_1 (Dropout)          multiple                  0         \n",
            "_________________________________________________________________\n",
            "dense_2 (Dense)              multiple                  1275      \n",
            "_________________________________________________________________\n",
            "dropout_2 (Dropout)          multiple                  0         \n",
            "_________________________________________________________________\n",
            "dense_3 (Dense)              multiple                  26        \n",
            "=================================================================\n",
            "Total params: 9,451\n",
            "Trainable params: 9,451\n",
            "Non-trainable params: 0\n",
            "_________________________________________________________________\n"
          ],
          "name": "stdout"
        }
      ]
    },
    {
      "cell_type": "code",
      "metadata": {
        "id": "mV6CYonuKLMX",
        "colab_type": "code",
        "colab": {
          "base_uri": "https://localhost:8080/",
          "height": 170
        },
        "outputId": "b5b1395e-f2b9-417c-9659-8896d04c22f1"
      },
      "source": [
        "from sklearn.metrics import classification_report, confusion_matrix\n",
        "predictions = mymodel.predict_classes(X_test)\n",
        "print(classification_report(y_test, predictions))"
      ],
      "execution_count": null,
      "outputs": [
        {
          "output_type": "stream",
          "text": [
            "              precision    recall  f1-score   support\n",
            "\n",
            "           0       1.00      1.00      1.00     56859\n",
            "           1       0.00      0.00      0.00       103\n",
            "\n",
            "    accuracy                           1.00     56962\n",
            "   macro avg       0.50      0.50      0.50     56962\n",
            "weighted avg       1.00      1.00      1.00     56962\n",
            "\n"
          ],
          "name": "stdout"
        }
      ]
    },
    {
      "cell_type": "code",
      "metadata": {
        "id": "0bmTbmtKKc0i",
        "colab_type": "code",
        "colab": {
          "base_uri": "https://localhost:8080/",
          "height": 51
        },
        "outputId": "724d4981-e203-44cb-c837-accfc82f8e09"
      },
      "source": [
        "confusion_matrix(y_test,predictions)"
      ],
      "execution_count": null,
      "outputs": [
        {
          "output_type": "execute_result",
          "data": {
            "text/plain": [
              "array([[56859,     0],\n",
              "       [  103,     0]])"
            ]
          },
          "metadata": {
            "tags": []
          },
          "execution_count": 53
        }
      ]
    }
  ]
}