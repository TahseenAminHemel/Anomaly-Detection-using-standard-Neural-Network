{
  "nbformat": 4,
  "nbformat_minor": 0,
  "metadata": {
    "colab": {
      "name": "Standard Neural Network.ipynb",
      "provenance": [],
      "collapsed_sections": []
    },
    "kernelspec": {
      "name": "python3",
      "display_name": "Python 3"
    },
    "accelerator": "GPU"
  },
  "cells": [
    {
      "cell_type": "code",
      "metadata": {
        "id": "y9f0nj-fUHg3",
        "colab_type": "code",
        "colab": {
          "base_uri": "https://localhost:8080/",
          "height": 51
        },
        "outputId": "a9c185e2-173d-414d-9e6d-8c0c3eb65155"
      },
      "source": [
        "# importhing necessary library files\n",
        "\n",
        "import pandas as pd\n",
        "import numpy as np\n",
        "import matplotlib.pyplot as plt\n",
        "import seaborn as sns\n",
        "import warnings\n",
        "warnings.filterwarnings(\"ignore\")"
      ],
      "execution_count": null,
      "outputs": [
        {
          "output_type": "stream",
          "text": [
            "/usr/local/lib/python3.6/dist-packages/statsmodels/tools/_testing.py:19: FutureWarning: pandas.util.testing is deprecated. Use the functions in the public API at pandas.testing instead.\n",
            "  import pandas.util.testing as tm\n"
          ],
          "name": "stderr"
        }
      ]
    },
    {
      "cell_type": "code",
      "metadata": {
        "id": "GuD-PDAyUehM",
        "colab_type": "code",
        "colab": {
          "base_uri": "https://localhost:8080/",
          "height": 122
        },
        "outputId": "37fec07a-9e79-4eee-b800-627a72d717d9"
      },
      "source": [
        "# mounting the google drive\n",
        "\n",
        "from google.colab import drive\n",
        "drive.mount('/content/drive/')"
      ],
      "execution_count": null,
      "outputs": [
        {
          "output_type": "stream",
          "text": [
            "Go to this URL in a browser: https://accounts.google.com/o/oauth2/auth?client_id=947318989803-6bn6qk8qdgf4n4g3pfee6491hc0brc4i.apps.googleusercontent.com&redirect_uri=urn%3aietf%3awg%3aoauth%3a2.0%3aoob&response_type=code&scope=email%20https%3a%2f%2fwww.googleapis.com%2fauth%2fdocs.test%20https%3a%2f%2fwww.googleapis.com%2fauth%2fdrive%20https%3a%2f%2fwww.googleapis.com%2fauth%2fdrive.photos.readonly%20https%3a%2f%2fwww.googleapis.com%2fauth%2fpeopleapi.readonly\n",
            "\n",
            "Enter your authorization code:\n",
            "··········\n",
            "Mounted at /content/drive/\n"
          ],
          "name": "stdout"
        }
      ]
    },
    {
      "cell_type": "code",
      "metadata": {
        "id": "LjkSsJ7mUe_s",
        "colab_type": "code",
        "colab": {}
      },
      "source": [
        "# Loading the data in the Pandas data frame\n",
        "\n",
        "data = pd.read_csv('/content/drive/My Drive/Colab Notebooks/MRP/creditcard.csv')"
      ],
      "execution_count": null,
      "outputs": []
    },
    {
      "cell_type": "code",
      "metadata": {
        "id": "lvg2ztVRBrR7",
        "colab_type": "code",
        "colab": {}
      },
      "source": [
        "# Splitting the data in test train split\n",
        "\n",
        "from sklearn.model_selection import train_test_split\n",
        "X = data.drop('Class',axis=1).values\n",
        "y = data['Class'].values\n",
        "X_train, X_test, y_train, y_test = train_test_split(X, y, test_size=0.20, random_state=101)"
      ],
      "execution_count": null,
      "outputs": []
    },
    {
      "cell_type": "code",
      "metadata": {
        "id": "AYK6IcHRC6HX",
        "colab_type": "code",
        "colab": {}
      },
      "source": [
        "# Normalizing the data\n",
        "\n",
        "from sklearn.preprocessing import MinMaxScaler\n",
        "scaler = MinMaxScaler()\n",
        "X_train = scaler.fit_transform(X_train)\n",
        "X_test = scaler.transform(X_test)"
      ],
      "execution_count": null,
      "outputs": []
    },
    {
      "cell_type": "code",
      "metadata": {
        "id": "A4Dxumu_qTzV",
        "colab_type": "code",
        "colab": {}
      },
      "source": [
        "# importing necessary library for neural network\n",
        "\n",
        "import keras\n",
        "import tensorflow as tf\n",
        "from keras import models, layers\n",
        "from keras.layers import Dense\n",
        "from keras.utils import np_utils\n",
        "from keras.models import Sequential"
      ],
      "execution_count": null,
      "outputs": []
    },
    {
      "cell_type": "code",
      "metadata": {
        "id": "NgJvF5-StOBO",
        "colab_type": "code",
        "colab": {}
      },
      "source": [
        "# Defining the neural network model\n",
        "\n",
        "def create_model():\n",
        "  return tf.keras.models.Sequential([\n",
        "    tf.keras.layers.Dense(100, activation='relu'),\n",
        "    tf.keras.layers.Dropout(0.2),\n",
        "    tf.keras.layers.Dense(50, activation='relu'),\n",
        "    tf.keras.layers.Dropout(0.2),\n",
        "    tf.keras.layers.Dense(25, activation='relu'),\n",
        "    tf.keras.layers.Dropout(0.2),\n",
        "    tf.keras.layers.Dense(units=1,activation='sigmoid')\n",
        "  ])"
      ],
      "execution_count": null,
      "outputs": []
    },
    {
      "cell_type": "code",
      "metadata": {
        "id": "kWfzz43-_N6d",
        "colab_type": "code",
        "colab": {}
      },
      "source": [
        "# compiling the model\n",
        "\n",
        "mymodel = create_model()\n",
        "mymodel.compile(loss='binary_crossentropy', optimizer='adam', metrics=[\"accuracy\"])"
      ],
      "execution_count": null,
      "outputs": []
    },
    {
      "cell_type": "code",
      "metadata": {
        "id": "nxKtX4Hz0IAJ",
        "colab_type": "code",
        "colab": {
          "base_uri": "https://localhost:8080/",
          "height": 884
        },
        "outputId": "79674046-8912-49b0-d68b-57c36a6caf16"
      },
      "source": [
        "# fitting the train set in the model\n",
        "\n",
        "mymodel.fit(x = X_train, \n",
        "          y = y_train, \n",
        "          epochs = 25,\n",
        "          batch_size = 10240, \n",
        "          validation_data = (X_test, y_test), \n",
        "          callbacks = None)"
      ],
      "execution_count": null,
      "outputs": [
        {
          "output_type": "stream",
          "text": [
            "Epoch 1/25\n",
            "23/23 [==============================] - 0s 17ms/step - loss: 0.2972 - accuracy: 0.9782 - val_loss: 0.0271 - val_accuracy: 0.9982\n",
            "Epoch 2/25\n",
            "23/23 [==============================] - 0s 9ms/step - loss: 0.0196 - accuracy: 0.9983 - val_loss: 0.0135 - val_accuracy: 0.9982\n",
            "Epoch 3/25\n",
            "23/23 [==============================] - 0s 10ms/step - loss: 0.0145 - accuracy: 0.9983 - val_loss: 0.0126 - val_accuracy: 0.9982\n",
            "Epoch 4/25\n",
            "23/23 [==============================] - 0s 8ms/step - loss: 0.0135 - accuracy: 0.9983 - val_loss: 0.0116 - val_accuracy: 0.9982\n",
            "Epoch 5/25\n",
            "23/23 [==============================] - 0s 9ms/step - loss: 0.0129 - accuracy: 0.9983 - val_loss: 0.0107 - val_accuracy: 0.9982\n",
            "Epoch 6/25\n",
            "23/23 [==============================] - 0s 10ms/step - loss: 0.0121 - accuracy: 0.9983 - val_loss: 0.0097 - val_accuracy: 0.9982\n",
            "Epoch 7/25\n",
            "23/23 [==============================] - 0s 9ms/step - loss: 0.0106 - accuracy: 0.9983 - val_loss: 0.0087 - val_accuracy: 0.9982\n",
            "Epoch 8/25\n",
            "23/23 [==============================] - 0s 8ms/step - loss: 0.0099 - accuracy: 0.9983 - val_loss: 0.0079 - val_accuracy: 0.9982\n",
            "Epoch 9/25\n",
            "23/23 [==============================] - 0s 8ms/step - loss: 0.0088 - accuracy: 0.9983 - val_loss: 0.0071 - val_accuracy: 0.9982\n",
            "Epoch 10/25\n",
            "23/23 [==============================] - 0s 9ms/step - loss: 0.0080 - accuracy: 0.9983 - val_loss: 0.0062 - val_accuracy: 0.9982\n",
            "Epoch 11/25\n",
            "23/23 [==============================] - 0s 10ms/step - loss: 0.0074 - accuracy: 0.9983 - val_loss: 0.0055 - val_accuracy: 0.9982\n",
            "Epoch 12/25\n",
            "23/23 [==============================] - 0s 9ms/step - loss: 0.0064 - accuracy: 0.9984 - val_loss: 0.0047 - val_accuracy: 0.9985\n",
            "Epoch 13/25\n",
            "23/23 [==============================] - 0s 8ms/step - loss: 0.0062 - accuracy: 0.9986 - val_loss: 0.0044 - val_accuracy: 0.9987\n",
            "Epoch 14/25\n",
            "23/23 [==============================] - 0s 9ms/step - loss: 0.0057 - accuracy: 0.9987 - val_loss: 0.0042 - val_accuracy: 0.9988\n",
            "Epoch 15/25\n",
            "23/23 [==============================] - 0s 9ms/step - loss: 0.0054 - accuracy: 0.9988 - val_loss: 0.0038 - val_accuracy: 0.9991\n",
            "Epoch 16/25\n",
            "23/23 [==============================] - 0s 10ms/step - loss: 0.0054 - accuracy: 0.9988 - val_loss: 0.0039 - val_accuracy: 0.9992\n",
            "Epoch 17/25\n",
            "23/23 [==============================] - 0s 8ms/step - loss: 0.0053 - accuracy: 0.9989 - val_loss: 0.0035 - val_accuracy: 0.9992\n",
            "Epoch 18/25\n",
            "23/23 [==============================] - 0s 8ms/step - loss: 0.0048 - accuracy: 0.9989 - val_loss: 0.0034 - val_accuracy: 0.9994\n",
            "Epoch 19/25\n",
            "23/23 [==============================] - 0s 9ms/step - loss: 0.0048 - accuracy: 0.9989 - val_loss: 0.0033 - val_accuracy: 0.9994\n",
            "Epoch 20/25\n",
            "23/23 [==============================] - 0s 10ms/step - loss: 0.0046 - accuracy: 0.9990 - val_loss: 0.0033 - val_accuracy: 0.9995\n",
            "Epoch 21/25\n",
            "23/23 [==============================] - 0s 8ms/step - loss: 0.0047 - accuracy: 0.9990 - val_loss: 0.0032 - val_accuracy: 0.9995\n",
            "Epoch 22/25\n",
            "23/23 [==============================] - 0s 9ms/step - loss: 0.0046 - accuracy: 0.9990 - val_loss: 0.0032 - val_accuracy: 0.9995\n",
            "Epoch 23/25\n",
            "23/23 [==============================] - 0s 9ms/step - loss: 0.0045 - accuracy: 0.9990 - val_loss: 0.0033 - val_accuracy: 0.9995\n",
            "Epoch 24/25\n",
            "23/23 [==============================] - 0s 9ms/step - loss: 0.0044 - accuracy: 0.9991 - val_loss: 0.0034 - val_accuracy: 0.9995\n",
            "Epoch 25/25\n",
            "23/23 [==============================] - 0s 9ms/step - loss: 0.0044 - accuracy: 0.9990 - val_loss: 0.0032 - val_accuracy: 0.9995\n"
          ],
          "name": "stdout"
        },
        {
          "output_type": "execute_result",
          "data": {
            "text/plain": [
              "<tensorflow.python.keras.callbacks.History at 0x7f7a200587b8>"
            ]
          },
          "metadata": {
            "tags": []
          },
          "execution_count": 9
        }
      ]
    },
    {
      "cell_type": "code",
      "metadata": {
        "id": "Ud6HHKgd_zDH",
        "colab_type": "code",
        "colab": {
          "base_uri": "https://localhost:8080/",
          "height": 391
        },
        "outputId": "d2fb02aa-f54b-4dc1-ef27-7dafb13f866c"
      },
      "source": [
        "# the model summary\n",
        "\n",
        "mymodel.summary()"
      ],
      "execution_count": null,
      "outputs": [
        {
          "output_type": "stream",
          "text": [
            "Model: \"sequential\"\n",
            "_________________________________________________________________\n",
            "Layer (type)                 Output Shape              Param #   \n",
            "=================================================================\n",
            "dense (Dense)                (None, 100)               3100      \n",
            "_________________________________________________________________\n",
            "dropout (Dropout)            (None, 100)               0         \n",
            "_________________________________________________________________\n",
            "dense_1 (Dense)              (None, 50)                5050      \n",
            "_________________________________________________________________\n",
            "dropout_1 (Dropout)          (None, 50)                0         \n",
            "_________________________________________________________________\n",
            "dense_2 (Dense)              (None, 25)                1275      \n",
            "_________________________________________________________________\n",
            "dropout_2 (Dropout)          (None, 25)                0         \n",
            "_________________________________________________________________\n",
            "dense_3 (Dense)              (None, 1)                 26        \n",
            "=================================================================\n",
            "Total params: 9,451\n",
            "Trainable params: 9,451\n",
            "Non-trainable params: 0\n",
            "_________________________________________________________________\n"
          ],
          "name": "stdout"
        }
      ]
    },
    {
      "cell_type": "code",
      "metadata": {
        "id": "mV6CYonuKLMX",
        "colab_type": "code",
        "colab": {
          "base_uri": "https://localhost:8080/",
          "height": 241
        },
        "outputId": "5ea74073-dba1-4ce6-c98c-2d303bb306a7"
      },
      "source": [
        "# Classification report for the standard neural network model\n",
        "\n",
        "from sklearn.metrics import classification_report, confusion_matrix\n",
        "predictions = mymodel.predict_classes(X_test)\n",
        "print(classification_report(y_test, predictions))"
      ],
      "execution_count": null,
      "outputs": [
        {
          "output_type": "stream",
          "text": [
            "WARNING:tensorflow:From <ipython-input-11-c26cbfd8162a>:4: Sequential.predict_classes (from tensorflow.python.keras.engine.sequential) is deprecated and will be removed after 2021-01-01.\n",
            "Instructions for updating:\n",
            "Please use instead:* `np.argmax(model.predict(x), axis=-1)`,   if your model does multi-class classification   (e.g. if it uses a `softmax` last-layer activation).* `(model.predict(x) > 0.5).astype(\"int32\")`,   if your model does binary classification   (e.g. if it uses a `sigmoid` last-layer activation).\n",
            "              precision    recall  f1-score   support\n",
            "\n",
            "           0       1.00      1.00      1.00     56859\n",
            "           1       0.92      0.79      0.85       103\n",
            "\n",
            "    accuracy                           1.00     56962\n",
            "   macro avg       0.96      0.89      0.92     56962\n",
            "weighted avg       1.00      1.00      1.00     56962\n",
            "\n"
          ],
          "name": "stdout"
        }
      ]
    },
    {
      "cell_type": "code",
      "metadata": {
        "id": "0bmTbmtKKc0i",
        "colab_type": "code",
        "colab": {
          "base_uri": "https://localhost:8080/",
          "height": 51
        },
        "outputId": "aff26069-9597-46bb-e332-56c81932f3ed"
      },
      "source": [
        "# Confusion matrix for the standard neural network model\n",
        "\n",
        "confusion_matrix(y_test,predictions)"
      ],
      "execution_count": null,
      "outputs": [
        {
          "output_type": "execute_result",
          "data": {
            "text/plain": [
              "array([[56852,     7],\n",
              "       [   22,    81]])"
            ]
          },
          "metadata": {
            "tags": []
          },
          "execution_count": 12
        }
      ]
    },
    {
      "cell_type": "code",
      "metadata": {
        "id": "Tt6mcIp8S7RR",
        "colab_type": "code",
        "colab": {
          "base_uri": "https://localhost:8080/",
          "height": 51
        },
        "outputId": "359d5ef0-4e3a-47ef-e115-ca23e46ee1b5"
      },
      "source": [
        "# RMSE for training data and test data\n",
        "\n",
        "from sklearn import metrics\n",
        "\n",
        "pred = mymodel.predict(X_train)\n",
        "score = np.sqrt(metrics.mean_squared_error(pred, y_train))\n",
        "print(f\"legitimate Score (RMSE): {score}\")\n",
        "\n",
        "pred = mymodel.predict(X_test)\n",
        "score = np.sqrt(metrics.mean_squared_error(pred, y_test))\n",
        "print(f\"anomaly Score (RMSE): {score}\")"
      ],
      "execution_count": null,
      "outputs": [
        {
          "output_type": "stream",
          "text": [
            "legitimate Score (RMSE): 0.024974633487037882\n",
            "anomaly Score (RMSE): 0.022784629837442873\n"
          ],
          "name": "stdout"
        }
      ]
    }
  ]
}