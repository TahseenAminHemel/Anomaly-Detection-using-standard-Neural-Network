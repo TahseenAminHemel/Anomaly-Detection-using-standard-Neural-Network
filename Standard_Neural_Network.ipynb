{
  "nbformat": 4,
  "nbformat_minor": 0,
  "metadata": {
    "colab": {
      "name": "Standard Neural Network.ipynb",
      "provenance": [],
      "collapsed_sections": []
    },
    "kernelspec": {
      "name": "python3",
      "display_name": "Python 3"
    },
    "accelerator": "GPU"
  },
  "cells": [
    {
      "cell_type": "code",
      "metadata": {
        "id": "y9f0nj-fUHg3",
        "colab_type": "code",
        "colab": {
          "base_uri": "https://localhost:8080/",
          "height": 51
        },
        "outputId": "ea760cd2-40a4-4e27-9d77-e1ac6e6d2fd2"
      },
      "source": [
        "# importhing necessary library files\n",
        "\n",
        "import pandas as pd\n",
        "import numpy as np\n",
        "import matplotlib.pyplot as plt\n",
        "import seaborn as sns\n",
        "import warnings\n",
        "warnings.filterwarnings(\"ignore\")"
      ],
      "execution_count": 1,
      "outputs": [
        {
          "output_type": "stream",
          "text": [
            "/usr/local/lib/python3.6/dist-packages/statsmodels/tools/_testing.py:19: FutureWarning: pandas.util.testing is deprecated. Use the functions in the public API at pandas.testing instead.\n",
            "  import pandas.util.testing as tm\n"
          ],
          "name": "stderr"
        }
      ]
    },
    {
      "cell_type": "code",
      "metadata": {
        "id": "GuD-PDAyUehM",
        "colab_type": "code",
        "colab": {
          "base_uri": "https://localhost:8080/",
          "height": 122
        },
        "outputId": "626bc243-8b57-45ae-ad3f-69c11ee65abf"
      },
      "source": [
        "# mounting the google drive\n",
        "\n",
        "from google.colab import drive\n",
        "drive.mount('/content/drive/')"
      ],
      "execution_count": 2,
      "outputs": [
        {
          "output_type": "stream",
          "text": [
            "Go to this URL in a browser: https://accounts.google.com/o/oauth2/auth?client_id=947318989803-6bn6qk8qdgf4n4g3pfee6491hc0brc4i.apps.googleusercontent.com&redirect_uri=urn%3aietf%3awg%3aoauth%3a2.0%3aoob&response_type=code&scope=email%20https%3a%2f%2fwww.googleapis.com%2fauth%2fdocs.test%20https%3a%2f%2fwww.googleapis.com%2fauth%2fdrive%20https%3a%2f%2fwww.googleapis.com%2fauth%2fdrive.photos.readonly%20https%3a%2f%2fwww.googleapis.com%2fauth%2fpeopleapi.readonly\n",
            "\n",
            "Enter your authorization code:\n",
            "··········\n",
            "Mounted at /content/drive/\n"
          ],
          "name": "stdout"
        }
      ]
    },
    {
      "cell_type": "code",
      "metadata": {
        "id": "LjkSsJ7mUe_s",
        "colab_type": "code",
        "colab": {}
      },
      "source": [
        "# Loading the data in the Pandas data frame\n",
        "\n",
        "data = pd.read_csv('/content/drive/My Drive/Colab Notebooks/MRP/creditcard.csv')"
      ],
      "execution_count": 3,
      "outputs": []
    },
    {
      "cell_type": "code",
      "metadata": {
        "id": "lvg2ztVRBrR7",
        "colab_type": "code",
        "colab": {}
      },
      "source": [
        "# Splitting the data in test train split\n",
        "\n",
        "from sklearn.model_selection import train_test_split\n",
        "X = data.drop('Class',axis=1).values\n",
        "y = data['Class'].values\n",
        "X_train, X_test, y_train, y_test = train_test_split(X, y, test_size=0.20, random_state=101)"
      ],
      "execution_count": 5,
      "outputs": []
    },
    {
      "cell_type": "code",
      "metadata": {
        "id": "AYK6IcHRC6HX",
        "colab_type": "code",
        "colab": {}
      },
      "source": [
        "# Normalizing the data\n",
        "\n",
        "from sklearn.preprocessing import MinMaxScaler\n",
        "scaler = MinMaxScaler()\n",
        "X_train = scaler.fit_transform(X_train)\n",
        "X_test = scaler.transform(X_test)"
      ],
      "execution_count": 6,
      "outputs": []
    },
    {
      "cell_type": "code",
      "metadata": {
        "id": "A4Dxumu_qTzV",
        "colab_type": "code",
        "colab": {}
      },
      "source": [
        "# importing necessary library for neural network\n",
        "\n",
        "import keras\n",
        "import tensorflow as tf\n",
        "from keras import models, layers\n",
        "from keras.layers import Dense\n",
        "from keras.utils import np_utils\n",
        "from keras.models import Sequential"
      ],
      "execution_count": 7,
      "outputs": []
    },
    {
      "cell_type": "code",
      "metadata": {
        "id": "NgJvF5-StOBO",
        "colab_type": "code",
        "colab": {}
      },
      "source": [
        "# Defining the neural network model\n",
        "\n",
        "def create_model():\n",
        "  return tf.keras.models.Sequential([\n",
        "    tf.keras.layers.Dense(100, activation='relu'),\n",
        "    tf.keras.layers.Dropout(0.2),\n",
        "    tf.keras.layers.Dense(50, activation='relu'),\n",
        "    tf.keras.layers.Dropout(0.2),\n",
        "    tf.keras.layers.Dense(25, activation='relu'),\n",
        "    tf.keras.layers.Dropout(0.2),\n",
        "    tf.keras.layers.Dense(units=1,activation='sigmoid')\n",
        "  ])"
      ],
      "execution_count": 8,
      "outputs": []
    },
    {
      "cell_type": "code",
      "metadata": {
        "id": "kWfzz43-_N6d",
        "colab_type": "code",
        "colab": {}
      },
      "source": [
        "# compiling the model\n",
        "\n",
        "mymodel = create_model()\n",
        "mymodel.compile(loss='binary_crossentropy', optimizer='adam', metrics=[\"accuracy\"])"
      ],
      "execution_count": 9,
      "outputs": []
    },
    {
      "cell_type": "code",
      "metadata": {
        "id": "nxKtX4Hz0IAJ",
        "colab_type": "code",
        "colab": {
          "base_uri": "https://localhost:8080/",
          "height": 884
        },
        "outputId": "8ca35005-0e3e-4613-ab7a-907f3c9cf291"
      },
      "source": [
        "# fitting the train set in the model\n",
        "\n",
        "mymodel.fit(x = X_train, \n",
        "          y = y_train, \n",
        "          epochs = 25,\n",
        "          batch_size = 10240, \n",
        "          validation_data = (X_test, y_test), \n",
        "          callbacks = None)"
      ],
      "execution_count": 10,
      "outputs": [
        {
          "output_type": "stream",
          "text": [
            "Epoch 1/25\n",
            "23/23 [==============================] - 0s 12ms/step - loss: 0.2150 - accuracy: 0.9828 - val_loss: 0.0184 - val_accuracy: 0.9982\n",
            "Epoch 2/25\n",
            "23/23 [==============================] - 0s 5ms/step - loss: 0.0193 - accuracy: 0.9983 - val_loss: 0.0128 - val_accuracy: 0.9982\n",
            "Epoch 3/25\n",
            "23/23 [==============================] - 0s 5ms/step - loss: 0.0149 - accuracy: 0.9983 - val_loss: 0.0127 - val_accuracy: 0.9982\n",
            "Epoch 4/25\n",
            "23/23 [==============================] - 0s 6ms/step - loss: 0.0143 - accuracy: 0.9983 - val_loss: 0.0117 - val_accuracy: 0.9982\n",
            "Epoch 5/25\n",
            "23/23 [==============================] - 0s 6ms/step - loss: 0.0130 - accuracy: 0.9983 - val_loss: 0.0104 - val_accuracy: 0.9982\n",
            "Epoch 6/25\n",
            "23/23 [==============================] - 0s 6ms/step - loss: 0.0118 - accuracy: 0.9983 - val_loss: 0.0092 - val_accuracy: 0.9982\n",
            "Epoch 7/25\n",
            "23/23 [==============================] - 0s 5ms/step - loss: 0.0107 - accuracy: 0.9983 - val_loss: 0.0079 - val_accuracy: 0.9982\n",
            "Epoch 8/25\n",
            "23/23 [==============================] - 0s 6ms/step - loss: 0.0095 - accuracy: 0.9983 - val_loss: 0.0072 - val_accuracy: 0.9982\n",
            "Epoch 9/25\n",
            "23/23 [==============================] - 0s 6ms/step - loss: 0.0085 - accuracy: 0.9983 - val_loss: 0.0062 - val_accuracy: 0.9982\n",
            "Epoch 10/25\n",
            "23/23 [==============================] - 0s 5ms/step - loss: 0.0078 - accuracy: 0.9984 - val_loss: 0.0061 - val_accuracy: 0.9986\n",
            "Epoch 11/25\n",
            "23/23 [==============================] - 0s 6ms/step - loss: 0.0073 - accuracy: 0.9986 - val_loss: 0.0048 - val_accuracy: 0.9988\n",
            "Epoch 12/25\n",
            "23/23 [==============================] - 0s 5ms/step - loss: 0.0063 - accuracy: 0.9988 - val_loss: 0.0044 - val_accuracy: 0.9991\n",
            "Epoch 13/25\n",
            "23/23 [==============================] - 0s 5ms/step - loss: 0.0057 - accuracy: 0.9989 - val_loss: 0.0041 - val_accuracy: 0.9992\n",
            "Epoch 14/25\n",
            "23/23 [==============================] - 0s 5ms/step - loss: 0.0057 - accuracy: 0.9990 - val_loss: 0.0037 - val_accuracy: 0.9992\n",
            "Epoch 15/25\n",
            "23/23 [==============================] - 0s 5ms/step - loss: 0.0055 - accuracy: 0.9991 - val_loss: 0.0036 - val_accuracy: 0.9993\n",
            "Epoch 16/25\n",
            "23/23 [==============================] - 0s 6ms/step - loss: 0.0052 - accuracy: 0.9991 - val_loss: 0.0035 - val_accuracy: 0.9994\n",
            "Epoch 17/25\n",
            "23/23 [==============================] - 0s 6ms/step - loss: 0.0050 - accuracy: 0.9991 - val_loss: 0.0035 - val_accuracy: 0.9994\n",
            "Epoch 18/25\n",
            "23/23 [==============================] - 0s 5ms/step - loss: 0.0048 - accuracy: 0.9992 - val_loss: 0.0034 - val_accuracy: 0.9995\n",
            "Epoch 19/25\n",
            "23/23 [==============================] - 0s 5ms/step - loss: 0.0048 - accuracy: 0.9991 - val_loss: 0.0035 - val_accuracy: 0.9994\n",
            "Epoch 20/25\n",
            "23/23 [==============================] - 0s 5ms/step - loss: 0.0047 - accuracy: 0.9992 - val_loss: 0.0035 - val_accuracy: 0.9994\n",
            "Epoch 21/25\n",
            "23/23 [==============================] - 0s 6ms/step - loss: 0.0044 - accuracy: 0.9992 - val_loss: 0.0033 - val_accuracy: 0.9995\n",
            "Epoch 22/25\n",
            "23/23 [==============================] - 0s 6ms/step - loss: 0.0048 - accuracy: 0.9992 - val_loss: 0.0032 - val_accuracy: 0.9995\n",
            "Epoch 23/25\n",
            "23/23 [==============================] - 0s 6ms/step - loss: 0.0044 - accuracy: 0.9992 - val_loss: 0.0033 - val_accuracy: 0.9995\n",
            "Epoch 24/25\n",
            "23/23 [==============================] - 0s 6ms/step - loss: 0.0046 - accuracy: 0.9992 - val_loss: 0.0033 - val_accuracy: 0.9995\n",
            "Epoch 25/25\n",
            "23/23 [==============================] - 0s 5ms/step - loss: 0.0045 - accuracy: 0.9992 - val_loss: 0.0034 - val_accuracy: 0.9995\n"
          ],
          "name": "stdout"
        },
        {
          "output_type": "execute_result",
          "data": {
            "text/plain": [
              "<tensorflow.python.keras.callbacks.History at 0x7f78a216e7b8>"
            ]
          },
          "metadata": {
            "tags": []
          },
          "execution_count": 10
        }
      ]
    },
    {
      "cell_type": "code",
      "metadata": {
        "id": "Ud6HHKgd_zDH",
        "colab_type": "code",
        "colab": {
          "base_uri": "https://localhost:8080/",
          "height": 391
        },
        "outputId": "ede26d9f-be50-489f-f6ad-fd0d502055bc"
      },
      "source": [
        "# the model summary\n",
        "\n",
        "mymodel.summary()"
      ],
      "execution_count": 11,
      "outputs": [
        {
          "output_type": "stream",
          "text": [
            "Model: \"sequential\"\n",
            "_________________________________________________________________\n",
            "Layer (type)                 Output Shape              Param #   \n",
            "=================================================================\n",
            "dense (Dense)                (None, 100)               3100      \n",
            "_________________________________________________________________\n",
            "dropout (Dropout)            (None, 100)               0         \n",
            "_________________________________________________________________\n",
            "dense_1 (Dense)              (None, 50)                5050      \n",
            "_________________________________________________________________\n",
            "dropout_1 (Dropout)          (None, 50)                0         \n",
            "_________________________________________________________________\n",
            "dense_2 (Dense)              (None, 25)                1275      \n",
            "_________________________________________________________________\n",
            "dropout_2 (Dropout)          (None, 25)                0         \n",
            "_________________________________________________________________\n",
            "dense_3 (Dense)              (None, 1)                 26        \n",
            "=================================================================\n",
            "Total params: 9,451\n",
            "Trainable params: 9,451\n",
            "Non-trainable params: 0\n",
            "_________________________________________________________________\n"
          ],
          "name": "stdout"
        }
      ]
    },
    {
      "cell_type": "code",
      "metadata": {
        "id": "mV6CYonuKLMX",
        "colab_type": "code",
        "colab": {
          "base_uri": "https://localhost:8080/",
          "height": 241
        },
        "outputId": "e9d76f1d-8fb0-495d-f1ef-b758f436eb25"
      },
      "source": [
        "# Classification report for the standard neural network model\n",
        "\n",
        "from sklearn.metrics import classification_report, confusion_matrix\n",
        "predictions = mymodel.predict_classes(X_test)\n",
        "print(classification_report(y_test, predictions))"
      ],
      "execution_count": 12,
      "outputs": [
        {
          "output_type": "stream",
          "text": [
            "WARNING:tensorflow:From <ipython-input-12-c26cbfd8162a>:4: Sequential.predict_classes (from tensorflow.python.keras.engine.sequential) is deprecated and will be removed after 2021-01-01.\n",
            "Instructions for updating:\n",
            "Please use instead:* `np.argmax(model.predict(x), axis=-1)`,   if your model does multi-class classification   (e.g. if it uses a `softmax` last-layer activation).* `(model.predict(x) > 0.5).astype(\"int32\")`,   if your model does binary classification   (e.g. if it uses a `sigmoid` last-layer activation).\n",
            "              precision    recall  f1-score   support\n",
            "\n",
            "           0       1.00      1.00      1.00     56859\n",
            "           1       0.91      0.82      0.86       103\n",
            "\n",
            "    accuracy                           1.00     56962\n",
            "   macro avg       0.96      0.91      0.93     56962\n",
            "weighted avg       1.00      1.00      1.00     56962\n",
            "\n"
          ],
          "name": "stdout"
        }
      ]
    },
    {
      "cell_type": "code",
      "metadata": {
        "id": "0bmTbmtKKc0i",
        "colab_type": "code",
        "colab": {
          "base_uri": "https://localhost:8080/",
          "height": 51
        },
        "outputId": "a09f6611-46b0-4a9a-885e-d0e1fe33fa49"
      },
      "source": [
        "# Confusion matrix for the standard neural network model\n",
        "\n",
        "confusion_matrix(y_test,predictions)"
      ],
      "execution_count": 13,
      "outputs": [
        {
          "output_type": "execute_result",
          "data": {
            "text/plain": [
              "array([[56851,     8],\n",
              "       [   19,    84]])"
            ]
          },
          "metadata": {
            "tags": []
          },
          "execution_count": 13
        }
      ]
    }
  ]
}